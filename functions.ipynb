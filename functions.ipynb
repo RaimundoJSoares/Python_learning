{
  "nbformat": 4,
  "nbformat_minor": 0,
  "metadata": {
    "colab": {
      "name": "functions.ipynb",
      "provenance": [],
      "collapsed_sections": [],
      "authorship_tag": "ABX9TyOMZ//uHhvyZY3PdqkpLoHp",
      "include_colab_link": true
    },
    "kernelspec": {
      "display_name": "Python 3",
      "name": "python3"
    },
    "language_info": {
      "name": "python"
    }
  },
  "cells": [
    {
      "cell_type": "markdown",
      "metadata": {
        "id": "view-in-github",
        "colab_type": "text"
      },
      "source": [
        "<a href=\"https://colab.research.google.com/github/KazumaShachou/Python_learning/blob/main/functions.ipynb\" target=\"_parent\"><img src=\"https://colab.research.google.com/assets/colab-badge.svg\" alt=\"Open In Colab\"/></a>"
      ]
    },
    {
      "cell_type": "code",
      "metadata": {
        "colab": {
          "base_uri": "https://localhost:8080/"
        },
        "id": "hqF0xc--5bbx",
        "outputId": "6ffa2178-e623-4db4-d82e-7d25a6ef9cae"
      },
      "source": [
        "def greet_user():\n",
        "  print('Hello!')\n",
        "\n",
        "greet_user()"
      ],
      "execution_count": null,
      "outputs": [
        {
          "output_type": "stream",
          "name": "stdout",
          "text": [
            "Hello!\n"
          ]
        }
      ]
    },
    {
      "cell_type": "code",
      "metadata": {
        "colab": {
          "base_uri": "https://localhost:8080/"
        },
        "id": "kVS87ZNr5zwh",
        "outputId": "3cf600bb-fe7d-447e-e29d-20a7d93aaa34"
      },
      "source": [
        "def comprimentar_usuario(username):\n",
        "  print(f'Olá, {username.title()}!')\n",
        "\n",
        "comprimentar_usuario('pekora')"
      ],
      "execution_count": null,
      "outputs": [
        {
          "output_type": "stream",
          "name": "stdout",
          "text": [
            "Olá, Pekora!\n"
          ]
        }
      ]
    },
    {
      "cell_type": "code",
      "metadata": {
        "colab": {
          "base_uri": "https://localhost:8080/"
        },
        "id": "mDVV-iEyroDp",
        "outputId": "16fa23df-881a-4ee0-964c-60d033b1a519"
      },
      "source": [
        "def display_message():\n",
        "  print('Hello everyone, still learning python here')\n",
        "\n",
        "display_message()"
      ],
      "execution_count": null,
      "outputs": [
        {
          "output_type": "stream",
          "name": "stdout",
          "text": [
            "Hello everyone, still learning python here\n"
          ]
        }
      ]
    },
    {
      "cell_type": "code",
      "metadata": {
        "id": "dlPBA6LRuF31",
        "colab": {
          "base_uri": "https://localhost:8080/"
        },
        "outputId": "3b34c36a-9c22-4526-e004-d26b969d0403"
      },
      "source": [
        "def describe_anime_good(anime_type, anime_name):\n",
        "  print(f'\\nMy favotire anime type is {anime_type}')\n",
        "  print(f'My favorite anime is {anime_name}')\n",
        "\n",
        "describe_anime_good('comedy', 'gintama')\n",
        "describe_anime_good('slice_of_life', 'non non biyori')"
      ],
      "execution_count": null,
      "outputs": [
        {
          "output_type": "stream",
          "name": "stdout",
          "text": [
            "\n",
            "My favotire anime type is comedy\n",
            "My favorite anime is gintama\n",
            "\n",
            "My favotire anime type is slice_of_life\n",
            "My favorite anime is non non biyori\n"
          ]
        }
      ]
    },
    {
      "cell_type": "code",
      "metadata": {
        "colab": {
          "base_uri": "https://localhost:8080/"
        },
        "id": "T683ULuMFEzP",
        "outputId": "45a946d7-adfc-4376-feab-3f758f5f8a6b"
      },
      "source": [
        "def describe_anime_good(anime_type, anime_name):\n",
        "  print(f'\\nMy favotire anime type is {anime_type}')\n",
        "  print(f'My favorite anime is {anime_name}')\n",
        "\n",
        "describe_anime_good(anime_type= 'comedia', anime_name= 'Gintama')"
      ],
      "execution_count": null,
      "outputs": [
        {
          "output_type": "stream",
          "name": "stdout",
          "text": [
            "\n",
            "My favotire anime type is comedia\n",
            "My favorite anime is Gintama\n"
          ]
        }
      ]
    },
    {
      "cell_type": "code",
      "metadata": {
        "colab": {
          "base_uri": "https://localhost:8080/"
        },
        "id": "-1Q7ix3_iyxh",
        "outputId": "2a5cff9d-b230-4697-ca01-fd2e7f73da10"
      },
      "source": [
        "def describe_anime_good(anime_type='comedy', anime_name='Gintama'):\n",
        "  print(f'\\nMy favorite anime type is {anime_type}')\n",
        "  print(f'My favorite anime is {anime_name}')\n",
        "\n",
        "describe_anime_good()"
      ],
      "execution_count": null,
      "outputs": [
        {
          "output_type": "stream",
          "name": "stdout",
          "text": [
            "\n",
            "My favorite anime type is comedy\n",
            "My favorite anime is Gintama\n"
          ]
        }
      ]
    },
    {
      "cell_type": "code",
      "metadata": {
        "id": "IuaHzmKTkK2A",
        "colab": {
          "base_uri": "https://localhost:8080/",
          "height": 35
        },
        "outputId": "d340d49d-a40d-48ac-88e2-b8fc13c6a98f"
      },
      "source": [
        "def full_name(first_name, second_name):\n",
        "  full = f'Nice to meet you, {first_name} {second_name}-san'\n",
        "\n",
        "  return full.title()\n",
        "\n",
        "full_name('Usada', 'Pekora')"
      ],
      "execution_count": null,
      "outputs": [
        {
          "output_type": "execute_result",
          "data": {
            "application/vnd.google.colaboratory.intrinsic+json": {
              "type": "string"
            },
            "text/plain": [
              "'Nice To Meet You, Usada Pekora-San'"
            ]
          },
          "metadata": {},
          "execution_count": 2
        }
      ]
    },
    {
      "cell_type": "code",
      "metadata": {
        "id": "WNXN0EvlkXMH",
        "colab": {
          "base_uri": "https://localhost:8080/"
        },
        "outputId": "6aabb9ac-1c6c-42b0-ade1-34986a324ad3"
      },
      "source": [
        "def build_person(first_name, last_name):\n",
        "  person = {f'first': first_name.title(), 'last': last_name.title()}\n",
        "  return person\n",
        "\n",
        "build_person('jimi', 'hendrix')"
      ],
      "execution_count": null,
      "outputs": [
        {
          "output_type": "execute_result",
          "data": {
            "text/plain": [
              "{'first': 'Jimi', 'last': 'Hendrix'}"
            ]
          },
          "metadata": {},
          "execution_count": 4
        }
      ]
    },
    {
      "cell_type": "code",
      "metadata": {
        "colab": {
          "base_uri": "https://localhost:8080/"
        },
        "id": "-Wa-VZooFqna",
        "outputId": "f990ba0b-5f17-46a5-9efe-8d7eef6f3a7e"
      },
      "source": [
        "def build_person(first_name, last_name, age=None):\n",
        " \"\"\"Return a dictionary of information about a person.\"\"\"\n",
        " person = {'first': first_name, 'last': last_name}\n",
        " if age:\n",
        "  person['age'] = age\n",
        " return person\n",
        "musician = build_person('jimi', 'hendrix', age=27)\n",
        "print(musician) "
      ],
      "execution_count": null,
      "outputs": [
        {
          "output_type": "stream",
          "name": "stdout",
          "text": [
            "{'first': 'jimi', 'last': 'hendrix', 'age': 27}\n"
          ]
        }
      ]
    },
    {
      "cell_type": "code",
      "metadata": {
        "id": "okrEAleBGbJ_"
      },
      "source": [
        "#Using a Function with a while Loop\n",
        "def get_formatted_name(first_name, last_name):\n",
        "  full_name = f\"{first_name} {last_name}\"\n",
        "  return full_name.title()\n",
        "\n",
        "while True:\n",
        "  print(\"\\nPlease tell me your name\")\n",
        "  print(\"(enter 'q' at any time to quit)\")\n",
        "\n",
        "  f_name = input(\"First name: \")\n",
        "  if f_name == 'q':\n",
        "    break\n",
        "\n",
        "  l_name = input(\"Last name: \")\n",
        "  if l_name == 'q':\n",
        "    break\n",
        "\n",
        "  formatted_name = get_formatted_name(f_name, l_name)\n",
        "  print(f\"\\nHello, {formatted_name}\")\n",
        "\n"
      ],
      "execution_count": null,
      "outputs": []
    },
    {
      "cell_type": "code",
      "metadata": {
        "colab": {
          "base_uri": "https://localhost:8080/"
        },
        "id": "n0wahXhWKGd5",
        "outputId": "5e0d6568-be3f-4484-8135-73405616afa2"
      },
      "source": [
        "def city_country(name_city, name_country):\n",
        "  place = f'{name_city}, {name_country}'\n",
        "  return place.title()\n",
        "\n",
        "while True:\n",
        "  print(f'\\nPlease tell me your location')\n",
        "  print(f\"use 'q' at any time to quit\")\n",
        "\n",
        "  city = input('Your city: ')\n",
        "  if city == 'q':\n",
        "    break\n",
        "\n",
        "  country = input('Your Country: ')\n",
        "  if country == 'q':\n",
        "    break\n",
        "\n",
        "  set_city_country = city_country(city, country)\n",
        "  print(f'You are from {set_city_country}')\n",
        "\n"
      ],
      "execution_count": null,
      "outputs": [
        {
          "name": "stdout",
          "output_type": "stream",
          "text": [
            "\n",
            "Please tell me your location\n",
            "use 'q' at any time to quit\n",
            "Your city: tokyo\n",
            "Your Country: japan\n",
            "You are from Tokyo, Japan\n",
            "\n",
            "Please tell me your location\n",
            "use 'q' at any time to quit\n",
            "Your city: q\n"
          ]
        }
      ]
    },
    {
      "cell_type": "code",
      "metadata": {
        "colab": {
          "base_uri": "https://localhost:8080/"
        },
        "id": "B7mjzVDrLM8H",
        "outputId": "5041b063-889b-4a1b-d824-c8e79aa2a70f"
      },
      "source": [
        "def greet_users(names):\n",
        "  for name in names:\n",
        "    msg = f\"Hello, {name}\"\n",
        "    print(msg)\n",
        "\n",
        "usernames = ['Pekora', 'Polka', 'Watame', 'Flare']\n",
        "greet_users(usernames)"
      ],
      "execution_count": null,
      "outputs": [
        {
          "output_type": "stream",
          "name": "stdout",
          "text": [
            "Hello, Pekora\n",
            "Hello, Polka\n",
            "Hello, Watame\n",
            "Hello, Flare\n"
          ]
        }
      ]
    },
    {
      "cell_type": "code",
      "metadata": {
        "id": "7QFuDNMms9pR"
      },
      "source": [
        "unprinted_designs = ['phone case', 'robot pendant', 'dodecahedron']\n",
        "completed_models = []\n",
        "\n",
        "while unprinted_designs:\n",
        " current_design = unprinted_designs.pop()\n",
        " print(f\"Printing model: {current_design}\")\n",
        " completed_models.append(current_design)\n",
        "\n",
        "print(\"\\nThe following models have been printed:\")\n",
        "for completed_model in completed_models:\n",
        " print(completed_model)"
      ],
      "execution_count": null,
      "outputs": []
    },
    {
      "cell_type": "code",
      "metadata": {
        "colab": {
          "base_uri": "https://localhost:8080/"
        },
        "id": "C2dRf7e32doB",
        "outputId": "bbd6b9c6-a44b-45a8-9a81-a0783d15b10a"
      },
      "source": [
        "objetos = ['telefone', 'celular', 'pc', 'carro', 'talher']\n",
        "novo_lugar = []\n",
        "\n",
        "while objetos:\n",
        "  mudar = objetos.pop()\n",
        "  print(f\"Objeto achado: {mudar}\")\n",
        "  novo_lugar.append(mudar)\n",
        "\n",
        "print(f'\\nOs seguintes objetos foram mudados: ')\n",
        "for novo_lugar_a in novo_lugar:\n",
        "  print(novo_lugar_a)"
      ],
      "execution_count": null,
      "outputs": [
        {
          "output_type": "stream",
          "name": "stdout",
          "text": [
            "Objeto achado: talher\n",
            "Objeto achado: carro\n",
            "Objeto achado: pc\n",
            "Objeto achado: celular\n",
            "Objeto achado: telefone\n",
            "\n",
            "Os seguintes objetos foram mudados: \n",
            "talher\n",
            "carro\n",
            "pc\n",
            "celular\n",
            "telefone\n"
          ]
        }
      ]
    },
    {
      "cell_type": "code",
      "metadata": {
        "colab": {
          "base_uri": "https://localhost:8080/"
        },
        "id": "o2l8pU-R3dxy",
        "outputId": "6ebc365d-0b18-47bb-ace3-ff0888a02d93"
      },
      "source": [
        "def make_pizza(*toppings):\n",
        "  print(toppings)\n",
        "\n",
        "make_pizza('pepperoni')\n",
        "make_pizza('mushrooms', 'green peppers', 'extra chesse')"
      ],
      "execution_count": null,
      "outputs": [
        {
          "output_type": "stream",
          "name": "stdout",
          "text": [
            "('pepperoni',)\n",
            "('mushrooms', 'green peppers', 'extra chesse')\n"
          ]
        }
      ]
    },
    {
      "cell_type": "code",
      "metadata": {
        "id": "wEky1HXIEePy",
        "colab": {
          "base_uri": "https://localhost:8080/"
        },
        "outputId": "586da778-a81a-41f3-e3d2-7d12b63d07c2"
      },
      "source": [
        "def make_pizza(*toppings):\n",
        "  print(f'Making a pizza with the following toppings: ')\n",
        "  for topping in toppings:\n",
        "    print(f'- {topping}')\n",
        "\n",
        "make_pizza('pepperoni')\n",
        "make_pizza('mushrooms', 'green peppers', 'extra cheese')"
      ],
      "execution_count": null,
      "outputs": [
        {
          "output_type": "stream",
          "name": "stdout",
          "text": [
            "Making a pizza with the following toppings: \n",
            "- pepperoni\n",
            "Making a pizza with the following toppings: \n",
            "- mushrooms\n",
            "- green peppers\n",
            "- extra cheese\n"
          ]
        }
      ]
    },
    {
      "cell_type": "code",
      "metadata": {
        "id": "Tg7wUPEca_fq"
      },
      "source": [
        "#Mixing Positional and Arbitrary Arguments\n",
        "def make_pizza(size, *toppings):\n",
        "  print(f'\\n Pizza com tamanho de {size}cm e com as coberturas de {toppings}')\n",
        "  for topping in topppings:\n",
        "    print(f'topping')\n",
        "\n",
        "make_pizza(30, 'chocolate')\n",
        "make_pizza(50, 'quatro-queijos', 'mussarella', 'bacon')\n"
      ],
      "execution_count": null,
      "outputs": []
    }
  ]
}