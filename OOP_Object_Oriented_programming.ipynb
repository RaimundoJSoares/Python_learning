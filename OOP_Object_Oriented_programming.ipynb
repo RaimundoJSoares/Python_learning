{
  "nbformat": 4,
  "nbformat_minor": 0,
  "metadata": {
    "colab": {
      "name": "OOP_Object_Oriented_programming.ipynb",
      "provenance": [],
      "authorship_tag": "ABX9TyNZ/AXx4CwnAZMmTKoW1YYy",
      "include_colab_link": true
    },
    "kernelspec": {
      "name": "python3",
      "display_name": "Python 3"
    },
    "language_info": {
      "name": "python"
    }
  },
  "cells": [
    {
      "cell_type": "markdown",
      "metadata": {
        "id": "view-in-github",
        "colab_type": "text"
      },
      "source": [
        "<a href=\"https://colab.research.google.com/github/KazumaShachou/Python_learning/blob/main/OOP_Object_Oriented_programming.ipynb\" target=\"_parent\"><img src=\"https://colab.research.google.com/assets/colab-badge.svg\" alt=\"Open In Colab\"/></a>"
      ]
    },
    {
      "cell_type": "code",
      "metadata": {
        "id": "Nw5nSlR4opmD",
        "colab": {
          "base_uri": "https://localhost:8080/"
        },
        "outputId": "0a7ebe35-348b-4659-d7e0-af5842e3646c"
      },
      "source": [
        "\"\"\"Creating a cat class\"\"\"\n",
        "class Dog:\n",
        "  def __init__(self, name, age):\n",
        "    self.name = name\n",
        "    self.age = age\n",
        "  \n",
        "  def sit(self):\n",
        "    print(f'{self.name} now is sitting')\n",
        "\n",
        "  def roll_over(self):\n",
        "    print(f'{self.name} rolled over!')\n",
        "\n",
        "#Making an Instance from a Class\n",
        "#abaixo é uma instância que representa um dog\n",
        "my_dog = Dog('Bob', 2)\n",
        "print(f'\\nMy dog name is {my_dog.name}.')\n",
        "print(f'My dog is {my_dog.age} years old.')\n",
        "\n",
        "#Calling Methods\n",
        "#após chamarmos uma instância da classe Dog. nós podemos usar ponto(.) notação para chamar o método definido pelo no Dog.\n",
        "my_dog.sit()"
      ],
      "execution_count": 5,
      "outputs": [
        {
          "output_type": "stream",
          "name": "stdout",
          "text": [
            "\n",
            "My dog name is Bob.\n",
            "My dog is 2 years old.\n",
            "Bob now is sitting\n"
          ]
        }
      ]
    },
    {
      "cell_type": "code",
      "metadata": {
        "id": "Mfk18GW4CYd7"
      },
      "source": [
        ""
      ],
      "execution_count": null,
      "outputs": []
    }
  ]
}