{
  "nbformat": 4,
  "nbformat_minor": 0,
  "metadata": {
    "colab": {
      "name": "Dictionary.ipynb",
      "provenance": [],
      "authorship_tag": "ABX9TyNxEmVKZQaqcrXCkVu+wyec",
      "include_colab_link": true
    },
    "kernelspec": {
      "name": "python3",
      "display_name": "Python 3"
    },
    "language_info": {
      "name": "python"
    }
  },
  "cells": [
    {
      "cell_type": "markdown",
      "metadata": {
        "id": "view-in-github",
        "colab_type": "text"
      },
      "source": [
        "<a href=\"https://colab.research.google.com/github/KazumaShachou/Python_learning/blob/main/Dictionary.ipynb\" target=\"_parent\"><img src=\"https://colab.research.google.com/assets/colab-badge.svg\" alt=\"Open In Colab\"/></a>"
      ]
    },
    {
      "cell_type": "code",
      "metadata": {
        "id": "FEg9Nsc0M-tY"
      },
      "source": [
        "alien = {'color': 'blue', 'eyes': 'black', 'points': 5}"
      ],
      "execution_count": null,
      "outputs": []
    },
    {
      "cell_type": "code",
      "metadata": {
        "colab": {
          "base_uri": "https://localhost:8080/"
        },
        "id": "tjzCFGt_BiL3",
        "outputId": "1bc5a1aa-4092-4f36-e6b1-808f65458ffb"
      },
      "source": [
        "print(alien['color'])\n",
        "print(alien['eyes'])\n",
        "print(alien['points'])"
      ],
      "execution_count": null,
      "outputs": [
        {
          "output_type": "stream",
          "name": "stdout",
          "text": [
            "blue\n",
            "black\n",
            "5\n"
          ]
        }
      ]
    },
    {
      "cell_type": "code",
      "metadata": {
        "colab": {
          "base_uri": "https://localhost:8080/"
        },
        "id": "TddhCR47Bo52",
        "outputId": "1e1c25bf-11ad-4db1-fab6-3019a049ee7e"
      },
      "source": [
        "novos_pontos = alien['points']\n",
        "print(f'Você ganhou {novos_pontos} pontos!')"
      ],
      "execution_count": null,
      "outputs": [
        {
          "output_type": "stream",
          "name": "stdout",
          "text": [
            "Você ganhou 5 pontos!\n"
          ]
        }
      ]
    },
    {
      "cell_type": "code",
      "metadata": {
        "colab": {
          "base_uri": "https://localhost:8080/"
        },
        "id": "81e11L79Cy-2",
        "outputId": "3f1a7049-3aa8-4051-a195-5dd2e1e882c7"
      },
      "source": [
        "alien['posição_x'] = 25\n",
        "alien['posição_y'] = 30\n",
        "print(alien)"
      ],
      "execution_count": null,
      "outputs": [
        {
          "output_type": "stream",
          "name": "stdout",
          "text": [
            "{'color': 'blue', 'eyes': 'black', 'points': 5, 'posição_x': 25, 'posição_y': 30}\n"
          ]
        }
      ]
    },
    {
      "cell_type": "code",
      "metadata": {
        "colab": {
          "base_uri": "https://localhost:8080/"
        },
        "id": "IXhOkXY0YPwG",
        "outputId": "ea95e0fd-8456-4e6b-8fb0-bf1d6be5a1ac"
      },
      "source": [
        "alien1 = {'cor' : 'cinza'}\n",
        "print(f\"esse alien tem cor {alien1['cor']}\")\n",
        "\n",
        "alien1['cor'] = 'azul'\n",
        "print(f\"esse alien agora tem cor {alien1['cor']}\")"
      ],
      "execution_count": null,
      "outputs": [
        {
          "output_type": "stream",
          "name": "stdout",
          "text": [
            "esse alien tem cor cinza\n",
            "esse alien agora tem cor azul\n"
          ]
        }
      ]
    },
    {
      "cell_type": "markdown",
      "metadata": {
        "id": "aWAU91VAaoSp"
      },
      "source": [
        ""
      ]
    },
    {
      "cell_type": "code",
      "metadata": {
        "colab": {
          "base_uri": "https://localhost:8080/"
        },
        "id": "WvjlOM3zZvac",
        "outputId": "74cd3661-d554-4be6-f7d9-7babfc08a9ac"
      },
      "source": [
        "print(alien)"
      ],
      "execution_count": null,
      "outputs": [
        {
          "output_type": "stream",
          "name": "stdout",
          "text": [
            "{'color': 'blue', 'eyes': 'black', 'points': 5, 'posição_x': 25, 'posição_y': 30}\n"
          ]
        }
      ]
    },
    {
      "cell_type": "code",
      "metadata": {
        "colab": {
          "base_uri": "https://localhost:8080/"
        },
        "id": "Gni9OM31XL-V",
        "outputId": "f8067697-a6a2-473a-c613-9161ffbea8ba"
      },
      "source": [
        "del alien['color']\n",
        "print(alien)"
      ],
      "execution_count": null,
      "outputs": [
        {
          "output_type": "stream",
          "name": "stdout",
          "text": [
            "{'eyes': 'black', 'points': 5, 'posição_x': 25, 'posição_y': 30}\n"
          ]
        }
      ]
    },
    {
      "cell_type": "code",
      "metadata": {
        "id": "KIzNmvYnXcUM"
      },
      "source": [
        "favorite_languages = {\n",
        "    'jen': 'python',\n",
        "    'sarah': 'c',\n",
        "    'edward': 'ruby',\n",
        "    'phil' : 'python',\n",
        "}"
      ],
      "execution_count": null,
      "outputs": []
    },
    {
      "cell_type": "code",
      "metadata": {
        "colab": {
          "base_uri": "https://localhost:8080/"
        },
        "id": "sPJagdIjhohB",
        "outputId": "e2857c3d-8a8b-4d2a-bce8-4196a6ebeff6"
      },
      "source": [
        "language = favorite_languages['jen'].title()\n",
        "print(f'linguagem favorita da jen é {language}')"
      ],
      "execution_count": null,
      "outputs": [
        {
          "output_type": "stream",
          "name": "stdout",
          "text": [
            "linguagem favorita da jen é Python\n"
          ]
        }
      ]
    },
    {
      "cell_type": "code",
      "metadata": {
        "colab": {
          "base_uri": "https://localhost:8080/"
        },
        "id": "CsZditZXlghv",
        "outputId": "63f19f8a-6a8e-41f5-baf5-d8c739c14006"
      },
      "source": [
        "alien_0 = {'color': 'green', 'speed': 'slow'}\n",
        "\n",
        "point_value = alien_0.get('points', 'No point value assigned.')\n",
        "print(point_value)"
      ],
      "execution_count": null,
      "outputs": [
        {
          "output_type": "stream",
          "name": "stdout",
          "text": [
            "No point value assigned.\n"
          ]
        }
      ]
    },
    {
      "cell_type": "code",
      "metadata": {
        "colab": {
          "base_uri": "https://localhost:8080/"
        },
        "id": "whx96I1ltOS1",
        "outputId": "f714fc62-b61e-4d47-9720-0b165dda9319"
      },
      "source": [
        "usuario = {'nickname': 'rai',\n",
        "           'primeiro_nome': 'sora',\n",
        "           'sobrenome': 'shiro'\n",
        "           }\n",
        "for key, value in usuario.items():\n",
        "  print(f\"\\nKey: {key}\")\n",
        "  print(f\"Value: {value}\")"
      ],
      "execution_count": null,
      "outputs": [
        {
          "output_type": "stream",
          "name": "stdout",
          "text": [
            "\n",
            "Key: nickname\n",
            "Value: rai\n",
            "\n",
            "Key: primeiro_nome\n",
            "Value: sora\n",
            "\n",
            "Key: sobrenome\n",
            "Value: shiro\n"
          ]
        }
      ]
    },
    {
      "cell_type": "code",
      "metadata": {
        "colab": {
          "base_uri": "https://localhost:8080/"
        },
        "id": "-A1lw3_D_ms7",
        "outputId": "bb4f4ffe-ee19-4b1e-9f06-2999e51ff15d"
      },
      "source": [
        "favorite_languages = {\n",
        "    'jen': 'python',\n",
        "    'sarah': 'c',\n",
        "    'edward': 'ruby',\n",
        "    'phil' : 'python',\n",
        "}\n",
        "\n",
        "for nome, linguagem in favorite_languages.items():\n",
        "  print(f'{nome.title()} gosta da linguagem {linguagem.title()}')"
      ],
      "execution_count": null,
      "outputs": [
        {
          "output_type": "stream",
          "name": "stdout",
          "text": [
            "Jen gosta da linguagem Python\n",
            "Sarah gosta da linguagem C\n",
            "Edward gosta da linguagem Ruby\n",
            "Phil gosta da linguagem Python\n"
          ]
        }
      ]
    },
    {
      "cell_type": "code",
      "metadata": {
        "colab": {
          "base_uri": "https://localhost:8080/"
        },
        "id": "geDJKaLwG6F4",
        "outputId": "b63d3e26-365f-409b-b518-c7ce44c9166d"
      },
      "source": [
        "favoritos = {\n",
        "    'jen': 'python',\n",
        "    'sarah': 'c',\n",
        "    'edward': 'ruby',\n",
        "    'phil' : 'python',\n",
        "}\n",
        "\n",
        "friends = ['phil', 'sarah']\n",
        "for name in favoritos.keys():\n",
        "  print(name.title())\n",
        "\n",
        "\n",
        "  if name in friends: #ESTUDAR MUITO ESSA PARTE\n",
        "    linguagem = favoritos[name].title() #ESTUDAR MUITO ESSA PARTE  - Acredito que o [name] ele tira o nome do print e apenas exibe a linguagem \n",
        "    print(f'\\t{name.title()}, vejo que você gosta de {linguagem}') #ESTUDAR MUITO ESSA PARTE"
      ],
      "execution_count": null,
      "outputs": [
        {
          "output_type": "stream",
          "name": "stdout",
          "text": [
            "Jen\n",
            "Sarah\n",
            "\tSarah, vejo que você gosta de C\n",
            "Edward\n",
            "Phil\n",
            "\tPhil, vejo que você gosta de Python\n"
          ]
        }
      ]
    },
    {
      "cell_type": "code",
      "metadata": {
        "id": "W20ih34bP0_V",
        "colab": {
          "base_uri": "https://localhost:8080/"
        },
        "outputId": "43944a2e-5dc9-4da8-e578-20439fdab50b"
      },
      "source": [
        "alien_0 = {'color': 'green', 'points': 5}\n",
        "alien_1 = {'color': 'yellow', 'points': 10}\n",
        "alien_2 = {'color': 'red', 'points': 15}\n",
        "\n",
        "aliens = [alien_0, alien_1, alien_2]\n",
        "\n",
        "for alien in aliens:\n",
        "  print(alien)"
      ],
      "execution_count": null,
      "outputs": [
        {
          "output_type": "stream",
          "name": "stdout",
          "text": [
            "{'color': 'green', 'points': 5}\n",
            "{'color': 'yellow', 'points': 10}\n",
            "{'color': 'red', 'points': 15}\n"
          ]
        }
      ]
    },
    {
      "cell_type": "code",
      "metadata": {
        "colab": {
          "base_uri": "https://localhost:8080/"
        },
        "id": "r9i7EXYdUFDP",
        "outputId": "97cb7b0b-1917-4925-b623-7e2f7c46e397"
      },
      "source": [
        "aliens = []\n",
        "\n",
        "#fazer 50 aliens\n",
        "for alien_number in range(50):\n",
        "  new_alien = {'color': 'blue', 'speed': 'slow', 'points': 20}\n",
        "  aliens.append(new_alien)\n",
        "\n",
        "#mostrar 10 aliens\n",
        "for alien in aliens[:10]:\n",
        "  print(alien)\n",
        "  print(\"...\")\n",
        "\n",
        "#quantos aliens foram criados\n",
        "print(f'total number aliens: {len(aliens)}')\n",
        "\n"
      ],
      "execution_count": null,
      "outputs": [
        {
          "output_type": "stream",
          "name": "stdout",
          "text": [
            "{'color': 'blue', 'speed': 'slow', 'points': 20}\n",
            "...\n",
            "{'color': 'blue', 'speed': 'slow', 'points': 20}\n",
            "...\n",
            "{'color': 'blue', 'speed': 'slow', 'points': 20}\n",
            "...\n",
            "{'color': 'blue', 'speed': 'slow', 'points': 20}\n",
            "...\n",
            "{'color': 'blue', 'speed': 'slow', 'points': 20}\n",
            "...\n",
            "{'color': 'blue', 'speed': 'slow', 'points': 20}\n",
            "...\n",
            "{'color': 'blue', 'speed': 'slow', 'points': 20}\n",
            "...\n",
            "{'color': 'blue', 'speed': 'slow', 'points': 20}\n",
            "...\n",
            "{'color': 'blue', 'speed': 'slow', 'points': 20}\n",
            "...\n",
            "{'color': 'blue', 'speed': 'slow', 'points': 20}\n",
            "...\n",
            "total number aliens: 50\n"
          ]
        }
      ]
    },
    {
      "cell_type": "code",
      "metadata": {
        "id": "qiZJVs1uXaRu",
        "colab": {
          "base_uri": "https://localhost:8080/"
        },
        "outputId": "0c5eae0a-40a9-49fe-bec8-3c4a3c36750d"
      },
      "source": [
        "\n",
        "monstros = []\n",
        "\n",
        "for monstro in range(10):\n",
        "  novo_monstro = {'cor': 'vermelha', 'velocidade': 'lenta', 'vida': 1000}\n",
        "  monstros.append(novo_monstro)\n",
        "\n",
        "for monstrinhos in monstros[5:]:\n",
        "    print(monstrinhos)\n",
        "    print(\"............................................................\")\n",
        "\n",
        "print(f'total de monstros é : {len(monstros)}')"
      ],
      "execution_count": null,
      "outputs": [
        {
          "output_type": "stream",
          "name": "stdout",
          "text": [
            "{'cor': 'vermelha', 'velocidade': 'lenta', 'vida': 1000}\n",
            "............................................................\n",
            "{'cor': 'vermelha', 'velocidade': 'lenta', 'vida': 1000}\n",
            "............................................................\n",
            "{'cor': 'vermelha', 'velocidade': 'lenta', 'vida': 1000}\n",
            "............................................................\n",
            "{'cor': 'vermelha', 'velocidade': 'lenta', 'vida': 1000}\n",
            "............................................................\n",
            "{'cor': 'vermelha', 'velocidade': 'lenta', 'vida': 1000}\n",
            "............................................................\n",
            "total de monstros é : 10\n"
          ]
        }
      ]
    },
    {
      "cell_type": "code",
      "metadata": {
        "colab": {
          "base_uri": "https://localhost:8080/"
        },
        "id": "QXAYDHwkjjjp",
        "outputId": "6a9b2069-4216-407f-a07e-b8b71de9b48c"
      },
      "source": [
        "#MUITO INTERESSANTE\n",
        "bosses = []\n",
        "\n",
        "for boss_number in range(30):\n",
        "  new_boss = {'color': 'black', 'speed': 'fast', 'points': 1000, 'life': 100000}\n",
        "  bosses.append(new_boss)\n",
        "\n",
        "for boss in bosses[:5]:\n",
        "  if boss['color'] == 'black':\n",
        "    boss['color'] = 'red'\n",
        "    boss['speed'] = 'very_fast'\n",
        "    boss['points'] = '5000'\n",
        "    boss['life'] = 1000000\n",
        "  elif boss['color'] == 'red':\n",
        "    boss['color'] = 'white'\n",
        "    boss['speed'] = 'very_fast'\n",
        "    boss['points'] = '5000'\n",
        "    boss['life'] = 1000000\n",
        "\n",
        "\n",
        "for boss in bosses[:10]:\n",
        "  print(boss)\n",
        "  print('----------------------------------------------------------------------')"
      ],
      "execution_count": null,
      "outputs": [
        {
          "output_type": "stream",
          "name": "stdout",
          "text": [
            "{'color': 'red', 'speed': 'very_fast', 'points': '5000', 'life': 1000000}\n",
            "----------------------------------------------------------------------\n",
            "{'color': 'red', 'speed': 'very_fast', 'points': '5000', 'life': 1000000}\n",
            "----------------------------------------------------------------------\n",
            "{'color': 'red', 'speed': 'very_fast', 'points': '5000', 'life': 1000000}\n",
            "----------------------------------------------------------------------\n",
            "{'color': 'red', 'speed': 'very_fast', 'points': '5000', 'life': 1000000}\n",
            "----------------------------------------------------------------------\n",
            "{'color': 'red', 'speed': 'very_fast', 'points': '5000', 'life': 1000000}\n",
            "----------------------------------------------------------------------\n",
            "{'color': 'black', 'speed': 'fast', 'points': 1000, 'life': 100000}\n",
            "----------------------------------------------------------------------\n",
            "{'color': 'black', 'speed': 'fast', 'points': 1000, 'life': 100000}\n",
            "----------------------------------------------------------------------\n",
            "{'color': 'black', 'speed': 'fast', 'points': 1000, 'life': 100000}\n",
            "----------------------------------------------------------------------\n",
            "{'color': 'black', 'speed': 'fast', 'points': 1000, 'life': 100000}\n",
            "----------------------------------------------------------------------\n",
            "{'color': 'black', 'speed': 'fast', 'points': 1000, 'life': 100000}\n",
            "----------------------------------------------------------------------\n"
          ]
        }
      ]
    },
    {
      "cell_type": "code",
      "metadata": {
        "colab": {
          "base_uri": "https://localhost:8080/"
        },
        "id": "ZAaRVsZupnyG",
        "outputId": "6ba51402-ee48-4279-f924-b4d330959250"
      },
      "source": [
        "favorite_languages = {\n",
        " 'jen': ['python', 'ruby'],\n",
        " 'sarah': ['c'],\n",
        " 'edward': ['ruby', 'go'],\n",
        " 'phil': ['python', 'haskell'],\n",
        " }\n",
        "\n",
        "for name, languages in favorite_languages.items():\n",
        "  print(f'\\n{name.title()} favorite language are: ')\n",
        "  for language in languages:\n",
        "    print(f\"\\t{language.title()}\")"
      ],
      "execution_count": null,
      "outputs": [
        {
          "output_type": "stream",
          "name": "stdout",
          "text": [
            "\n",
            "Jen favorite language are: \n",
            "\tPython\n",
            "\tRuby\n",
            "\n",
            "Sarah favorite language are: \n",
            "\tC\n",
            "\n",
            "Edward favorite language are: \n",
            "\tRuby\n",
            "\tGo\n",
            "\n",
            "Phil favorite language are: \n",
            "\tPython\n",
            "\tHaskell\n"
          ]
        }
      ]
    },
    {
      "cell_type": "code",
      "metadata": {
        "colab": {
          "base_uri": "https://localhost:8080/"
        },
        "id": "0fAbPRtEtF5U",
        "outputId": "eeaa0a79-2196-4a20-8006-3e320a7d3279"
      },
      "source": [
        "vtubers = {\n",
        "    'pekora':{\n",
        "        'tipo': 'engraçada',\n",
        "        'gostos': 'cenoura'\n",
        "      },\n",
        "\n",
        "    'watame': {\n",
        "        'tipo': 'fofinha',\n",
        "        'gostos': 'rap'\n",
        "        },\n",
        "\n",
        "      'kanata':{\n",
        "          'tipo': 'gorila',\n",
        "          'gostos': 'banana'\n",
        "      }\n",
        "}\n",
        "\n",
        "for username, user_info in vtubers.items():\n",
        "  print(f\"\\nUsername: {username}\")\n",
        "  caracteristicas = f\"Ser {user_info['tipo']} e gostar de {user_info['gostos']}\"\n",
        "\n",
        "  print(f\"\\t Suas caracteristicas são {caracteristicas.title()}\")\n"
      ],
      "execution_count": null,
      "outputs": [
        {
          "output_type": "stream",
          "name": "stdout",
          "text": [
            "\n",
            "Username: pekora\n",
            "\t Suas caracteristicas são Ser Engraçada E Gostar De Cenoura\n",
            "\n",
            "Username: watame\n",
            "\t Suas caracteristicas são Ser Fofinha E Gostar De Rap\n",
            "\n",
            "Username: kanata\n",
            "\t Suas caracteristicas são Ser Gorila E Gostar De Banana\n"
          ]
        }
      ]
    },
    {
      "cell_type": "code",
      "metadata": {
        "id": "NORHbtsmwlID"
      },
      "source": [
        ""
      ],
      "execution_count": null,
      "outputs": []
    }
  ]
}