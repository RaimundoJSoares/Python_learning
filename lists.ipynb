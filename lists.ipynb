{
  "nbformat": 4,
  "nbformat_minor": 0,
  "metadata": {
    "colab": {
      "name": "lists.ipynb",
      "provenance": [],
      "authorship_tag": "ABX9TyOIHzIeS7JYGIXSI5Z9hglO",
      "include_colab_link": true
    },
    "kernelspec": {
      "name": "python3",
      "display_name": "Python 3"
    },
    "language_info": {
      "name": "python"
    }
  },
  "cells": [
    {
      "cell_type": "markdown",
      "metadata": {
        "id": "view-in-github",
        "colab_type": "text"
      },
      "source": [
        "<a href=\"https://colab.research.google.com/github/KazumaShachou/Python_learning/blob/main/lists.ipynb\" target=\"_parent\"><img src=\"https://colab.research.google.com/assets/colab-badge.svg\" alt=\"Open In Colab\"/></a>"
      ]
    },
    {
      "cell_type": "code",
      "metadata": {
        "colab": {
          "base_uri": "https://localhost:8080/",
          "height": 35
        },
        "id": "xdD3czMtlSGU",
        "outputId": "313cae3c-ba41-4a3a-ae12-c95ebec3b8f9"
      },
      "source": [
        "waifus = ['hutao', 'aqua', 'cecilia', 'Seria', 'miku']\n",
        "waifus[0]"
      ],
      "execution_count": null,
      "outputs": [
        {
          "output_type": "execute_result",
          "data": {
            "application/vnd.google.colaboratory.intrinsic+json": {
              "type": "string"
            },
            "text/plain": [
              "'hutao'"
            ]
          },
          "metadata": {},
          "execution_count": 1
        }
      ]
    },
    {
      "cell_type": "code",
      "metadata": {
        "colab": {
          "base_uri": "https://localhost:8080/"
        },
        "id": "m8vtsDKil0u6",
        "outputId": "c0d867c9-dc9d-4356-8a76-642c67cf78f7"
      },
      "source": [
        "print(waifus[3])"
      ],
      "execution_count": null,
      "outputs": [
        {
          "output_type": "stream",
          "name": "stdout",
          "text": [
            "Seria\n"
          ]
        }
      ]
    },
    {
      "cell_type": "code",
      "metadata": {
        "colab": {
          "base_uri": "https://localhost:8080/"
        },
        "id": "U9__JdDQl9_5",
        "outputId": "d79c3777-0a6b-4845-a3d1-c4d8ee1ff97c"
      },
      "source": [
        "print(waifus[3].title())"
      ],
      "execution_count": null,
      "outputs": [
        {
          "output_type": "stream",
          "name": "stdout",
          "text": [
            "Seria\n"
          ]
        }
      ]
    },
    {
      "cell_type": "code",
      "metadata": {
        "colab": {
          "base_uri": "https://localhost:8080/"
        },
        "id": "b-8sj52JmJNB",
        "outputId": "cf25b7fe-a075-483a-f211-1cfe8924f8e6"
      },
      "source": [
        "mensagem = f\"Minha atual waifu é a {waifus[0]}\"\n",
        "print(mensagem)"
      ],
      "execution_count": null,
      "outputs": [
        {
          "output_type": "stream",
          "name": "stdout",
          "text": [
            "Minha atual waifu é a hutao\n"
          ]
        }
      ]
    },
    {
      "cell_type": "code",
      "metadata": {
        "colab": {
          "base_uri": "https://localhost:8080/",
          "height": 35
        },
        "id": "ZgiR7vZjmhEa",
        "outputId": "6b574aef-d7e8-4eef-e856-7787ab94365c"
      },
      "source": [
        "coisas = ['agua','cerveja', 'coca', 'lua', 'sol', 'correio']\n",
        "coisas[2]"
      ],
      "execution_count": null,
      "outputs": [
        {
          "output_type": "execute_result",
          "data": {
            "application/vnd.google.colaboratory.intrinsic+json": {
              "type": "string"
            },
            "text/plain": [
              "'coca'"
            ]
          },
          "metadata": {},
          "execution_count": 6
        }
      ]
    },
    {
      "cell_type": "code",
      "metadata": {
        "colab": {
          "base_uri": "https://localhost:8080/"
        },
        "id": "2BKlCWzznBDo",
        "outputId": "f34d9ab6-64e7-4953-c1db-233a5e42859b"
      },
      "source": [
        "coisas[2] = 'suco'\n",
        "coisas"
      ],
      "execution_count": null,
      "outputs": [
        {
          "output_type": "execute_result",
          "data": {
            "text/plain": [
              "['agua', 'cerveja', 'suco', 'lua', 'sol', 'correio']"
            ]
          },
          "metadata": {},
          "execution_count": 9
        }
      ]
    },
    {
      "cell_type": "code",
      "metadata": {
        "colab": {
          "base_uri": "https://localhost:8080/"
        },
        "id": "hfFeLxqbnH7o",
        "outputId": "3a7e2427-c0de-459e-cae3-d9e6d05d94f4"
      },
      "source": [
        "coisas.append('coca')\n",
        "coisas"
      ],
      "execution_count": null,
      "outputs": [
        {
          "output_type": "execute_result",
          "data": {
            "text/plain": [
              "['agua', 'cerveja', 'suco', 'lua', 'sol', 'correio', 'coca', 'coca']"
            ]
          },
          "metadata": {},
          "execution_count": 11
        }
      ]
    },
    {
      "cell_type": "code",
      "metadata": {
        "colab": {
          "base_uri": "https://localhost:8080/"
        },
        "id": "Y2ereSYXqxU6",
        "outputId": "7af0300b-5b62-45dd-92c9-bd19f8db9c65"
      },
      "source": [
        "coisas"
      ],
      "execution_count": null,
      "outputs": [
        {
          "output_type": "execute_result",
          "data": {
            "text/plain": [
              "['agua', 'cerveja', 'suco', 'lua', 'sol', 'correio', 'coca', 'coca']"
            ]
          },
          "metadata": {},
          "execution_count": 12
        }
      ]
    },
    {
      "cell_type": "code",
      "metadata": {
        "colab": {
          "base_uri": "https://localhost:8080/"
        },
        "id": "lcmWmglKq18Z",
        "outputId": "52512dbc-4df7-4f58-8a3a-831653b2cb68"
      },
      "source": [
        "coisas.insert(0, 'morango')\n",
        "coisas"
      ],
      "execution_count": null,
      "outputs": [
        {
          "output_type": "execute_result",
          "data": {
            "text/plain": [
              "['morango', 'agua', 'cerveja', 'suco', 'lua', 'sol', 'correio', 'coca', 'coca']"
            ]
          },
          "metadata": {},
          "execution_count": 14
        }
      ]
    },
    {
      "cell_type": "code",
      "metadata": {
        "colab": {
          "base_uri": "https://localhost:8080/"
        },
        "id": "ivvz6TbWrE_I",
        "outputId": "5212c48b-9824-4c1d-e7af-fc9c3a2744be"
      },
      "source": [
        "del coisas[8]\n",
        "coisas"
      ],
      "execution_count": null,
      "outputs": [
        {
          "output_type": "execute_result",
          "data": {
            "text/plain": [
              "['morango', 'agua', 'cerveja', 'suco', 'lua', 'sol', 'correio', 'coca']"
            ]
          },
          "metadata": {},
          "execution_count": 19
        }
      ]
    },
    {
      "cell_type": "code",
      "metadata": {
        "colab": {
          "base_uri": "https://localhost:8080/"
        },
        "id": "iWlL4mwErQLo",
        "outputId": "d24a7a8f-9e2a-40b3-8844-3b86d5b52cc4"
      },
      "source": [
        "print(f'eu ja vi todas essas coisas: {coisas}')"
      ],
      "execution_count": null,
      "outputs": [
        {
          "output_type": "stream",
          "name": "stdout",
          "text": [
            "eu ja vi todas essas coisas: ['morango', 'agua', 'cerveja', 'suco', 'lua', 'sol', 'correio', 'coca']\n"
          ]
        }
      ]
    },
    {
      "cell_type": "code",
      "metadata": {
        "colab": {
          "base_uri": "https://localhost:8080/"
        },
        "id": "CQ59Rnq2r-gR",
        "outputId": "bfa6d8d8-cc5b-47ba-b87d-14f599f5dd96"
      },
      "source": [
        "#separa um item \n",
        "coisasdois = coisas.pop(7)\n",
        "print(f\"eu amo beber {coisasdois.title()}\")"
      ],
      "execution_count": null,
      "outputs": [
        {
          "output_type": "stream",
          "name": "stdout",
          "text": [
            "eu amo beber Coca\n"
          ]
        }
      ]
    },
    {
      "cell_type": "code",
      "metadata": {
        "colab": {
          "base_uri": "https://localhost:8080/"
        },
        "id": "kRjoAdm7s47S",
        "outputId": "0ab67c21-b7e9-4ec2-87b5-03d841d30ee8"
      },
      "source": [
        "#organizar\n",
        "coisas.sort()\n",
        "coisas"
      ],
      "execution_count": null,
      "outputs": [
        {
          "output_type": "execute_result",
          "data": {
            "text/plain": [
              "['agua', 'cerveja', 'correio', 'lua', 'morango', 'sol', 'suco']"
            ]
          },
          "metadata": {},
          "execution_count": 27
        }
      ]
    },
    {
      "cell_type": "code",
      "metadata": {
        "colab": {
          "base_uri": "https://localhost:8080/"
        },
        "id": "VDLqeu4AttgB",
        "outputId": "1e9cafc3-569d-4af0-f45e-cd94062acaa7"
      },
      "source": [
        "coisas.reverse()\n",
        "coisas"
      ],
      "execution_count": null,
      "outputs": [
        {
          "output_type": "execute_result",
          "data": {
            "text/plain": [
              "['suco', 'sol', 'morango', 'lua', 'correio', 'cerveja', 'agua']"
            ]
          },
          "metadata": {},
          "execution_count": 28
        }
      ]
    },
    {
      "cell_type": "code",
      "metadata": {
        "colab": {
          "base_uri": "https://localhost:8080/"
        },
        "id": "4A2M0EZs1t8q",
        "outputId": "88881de8-afdc-4aab-d23d-8ca0c84d3232"
      },
      "source": [
        "len(coisas)"
      ],
      "execution_count": null,
      "outputs": [
        {
          "output_type": "execute_result",
          "data": {
            "text/plain": [
              "7"
            ]
          },
          "metadata": {},
          "execution_count": 29
        }
      ]
    },
    {
      "cell_type": "code",
      "metadata": {
        "colab": {
          "base_uri": "https://localhost:8080/"
        },
        "id": "lVpzzo4h24pJ",
        "outputId": "d5aab43a-b6ea-4a72-e2ff-20b5bc4911e8"
      },
      "source": [
        "#The output is a simple printout of each name in the list\n",
        "magicians = ['pekora', 'watame', 'gura', 'kanata']\n",
        "\n",
        "for magician in magicians:\n",
        "  print(magician)"
      ],
      "execution_count": null,
      "outputs": [
        {
          "output_type": "stream",
          "name": "stdout",
          "text": [
            "pekora\n",
            "watame\n",
            "gura\n",
            "kanata\n"
          ]
        }
      ]
    },
    {
      "cell_type": "code",
      "metadata": {
        "id": "t3TnUHxR7imJ",
        "colab": {
          "base_uri": "https://localhost:8080/"
        },
        "outputId": "9186d9f9-8b35-4af8-b826-1b9bc941eb0b"
      },
      "source": [
        "magicians = ['pekora', 'watame', 'gura', 'kanata']\n",
        "\n",
        "for magica in magicians:\n",
        "  print(f\"{magica.title()}, isso foi um grande truque de mágica!\")\n",
        "  print(f\"eu não posso esperar para ver seu próximo truque de mágica, {magica.title()}\\n\")"
      ],
      "execution_count": null,
      "outputs": [
        {
          "output_type": "stream",
          "name": "stdout",
          "text": [
            "Pekora, isso foi um grande truque de mágica!\n",
            "eu não posso esperar para ver seu próximo truque de mágica, Pekora\n",
            "\n",
            "Watame, isso foi um grande truque de mágica!\n",
            "eu não posso esperar para ver seu próximo truque de mágica, Watame\n",
            "\n",
            "Gura, isso foi um grande truque de mágica!\n",
            "eu não posso esperar para ver seu próximo truque de mágica, Gura\n",
            "\n",
            "Kanata, isso foi um grande truque de mágica!\n",
            "eu não posso esperar para ver seu próximo truque de mágica, Kanata\n",
            "\n"
          ]
        }
      ]
    },
    {
      "cell_type": "code",
      "metadata": {
        "colab": {
          "base_uri": "https://localhost:8080/"
        },
        "id": "pSnLqBzaoCB6",
        "outputId": "2f600b73-dc59-45f4-b811-075e33e6c933"
      },
      "source": [
        "magicians = ['pekora', 'watame', 'gura', 'kanata']\n",
        "\n",
        "for magica in magicians:\n",
        "  print(f\"{magica.title()}, isso foi um grande truque de mágica!\")\n",
        "  print(f\"eu não posso esperar para ver seu próximo truque de mágica, {magica.title()}\\n\")\n",
        "\n",
        "print('obrigado garotas, isso foi um grande show!')"
      ],
      "execution_count": null,
      "outputs": [
        {
          "output_type": "stream",
          "name": "stdout",
          "text": [
            "Pekora, isso foi um grande truque de mágica!\n",
            "eu não posso esperar para ver seu próximo truque de mágica, Pekora\n",
            "\n",
            "Watame, isso foi um grande truque de mágica!\n",
            "eu não posso esperar para ver seu próximo truque de mágica, Watame\n",
            "\n",
            "Gura, isso foi um grande truque de mágica!\n",
            "eu não posso esperar para ver seu próximo truque de mágica, Gura\n",
            "\n",
            "Kanata, isso foi um grande truque de mágica!\n",
            "eu não posso esperar para ver seu próximo truque de mágica, Kanata\n",
            "\n",
            "obrigado garotas, isso foi um grande show!\n"
          ]
        }
      ]
    },
    {
      "cell_type": "code",
      "metadata": {
        "colab": {
          "base_uri": "https://localhost:8080/"
        },
        "id": "8vYccgNgqC72",
        "outputId": "293a9d2e-1208-4417-d993-e6989da1dab4"
      },
      "source": [
        "magicians = ['alice', 'david', 'carolina']\n",
        "for magician in magicians:\n",
        " print(f\"{magician.title()}, that was a great trick!\")\n",
        "print(f\"I can't wait to see your next trick, {magician.title()}.\\n\")"
      ],
      "execution_count": null,
      "outputs": [
        {
          "output_type": "stream",
          "name": "stdout",
          "text": [
            "Alice, that was a great trick!\n",
            "David, that was a great trick!\n",
            "Carolina, that was a great trick!\n",
            "I can't wait to see your next trick, Carolina.\n",
            "\n"
          ]
        }
      ]
    },
    {
      "cell_type": "code",
      "metadata": {
        "id": "3AKwtpcEy0X_",
        "colab": {
          "base_uri": "https://localhost:8080/"
        },
        "outputId": "1d9cb18f-3a1b-496d-ad9a-d16a739d7ddf"
      },
      "source": [
        "for value in range(1,6):\n",
        "  print(value)"
      ],
      "execution_count": null,
      "outputs": [
        {
          "output_type": "stream",
          "name": "stdout",
          "text": [
            "1\n",
            "2\n",
            "3\n",
            "4\n",
            "5\n"
          ]
        }
      ]
    },
    {
      "cell_type": "code",
      "metadata": {
        "colab": {
          "base_uri": "https://localhost:8080/"
        },
        "id": "J1uSOmeSGp01",
        "outputId": "cfbb4eb2-0ae5-4835-81ec-c82ee1cbbc3d"
      },
      "source": [
        "even_numbers = list(range(2, 11, ))\n",
        "print(even_numbers)"
      ],
      "execution_count": null,
      "outputs": [
        {
          "output_type": "stream",
          "name": "stdout",
          "text": [
            "[2, 3, 4, 5, 6, 7, 8, 9, 10]\n"
          ]
        }
      ]
    },
    {
      "cell_type": "code",
      "metadata": {
        "id": "GA4G8lvYLVbU",
        "colab": {
          "base_uri": "https://localhost:8080/"
        },
        "outputId": "59b9f668-b014-40f7-a4e5-01ed210e0bfa"
      },
      "source": [
        "for valor in range(1, 10):\n",
        "  print(valor)"
      ],
      "execution_count": null,
      "outputs": [
        {
          "output_type": "stream",
          "name": "stdout",
          "text": [
            "1\n",
            "2\n",
            "3\n",
            "4\n",
            "5\n",
            "6\n",
            "7\n",
            "8\n",
            "9\n"
          ]
        }
      ]
    },
    {
      "cell_type": "code",
      "metadata": {
        "colab": {
          "base_uri": "https://localhost:8080/"
        },
        "id": "oFT6fDIaSDE1",
        "outputId": "bf92c109-99a3-4f90-8249-8bb6fafd7a9a"
      },
      "source": [
        "numeros = list(range(1, 10))\n",
        "print(numeros)"
      ],
      "execution_count": null,
      "outputs": [
        {
          "output_type": "stream",
          "name": "stdout",
          "text": [
            "[1, 2, 3, 4, 5, 6, 7, 8, 9]\n"
          ]
        }
      ]
    },
    {
      "cell_type": "code",
      "metadata": {
        "colab": {
          "base_uri": "https://localhost:8080/"
        },
        "id": "m43WSzkWT_Ll",
        "outputId": "1baa6449-143b-41a5-d77b-32322a9ad696"
      },
      "source": [
        "outros_numeros = list(range(2, 21, 2))\n",
        "print(outros_numeros)"
      ],
      "execution_count": null,
      "outputs": [
        {
          "output_type": "stream",
          "name": "stdout",
          "text": [
            "[2, 4, 6, 8, 10, 12, 14, 16, 18, 20]\n"
          ]
        }
      ]
    },
    {
      "cell_type": "code",
      "metadata": {
        "colab": {
          "base_uri": "https://localhost:8080/"
        },
        "id": "SvsmWHg_UsPE",
        "outputId": "b26c4785-1a27-48d4-b6f0-0a788b111441"
      },
      "source": [
        "squares = []\n",
        "for value in range(1, 11):\n",
        "  square = value**2\n",
        "  squares.append(square)\n",
        "\n",
        "print(squares)"
      ],
      "execution_count": null,
      "outputs": [
        {
          "output_type": "stream",
          "name": "stdout",
          "text": [
            "[1, 4, 9, 16, 25, 36, 49, 64, 81, 100]\n"
          ]
        }
      ]
    },
    {
      "cell_type": "code",
      "metadata": {
        "id": "8Eucnix2X8W0",
        "colab": {
          "base_uri": "https://localhost:8080/"
        },
        "outputId": "01b0a436-d77b-4931-8861-364b8d80e7d1"
      },
      "source": [
        "squares = []\n",
        "\n",
        "for valor in range(2, 21, 2):\n",
        "  square = valor**2\n",
        "  squares.append(square)\n",
        "\n",
        "print(squares)"
      ],
      "execution_count": null,
      "outputs": [
        {
          "output_type": "stream",
          "name": "stdout",
          "text": [
            "[4, 16, 36, 64, 100, 144, 196, 256, 324, 400]\n"
          ]
        }
      ]
    },
    {
      "cell_type": "code",
      "metadata": {
        "id": "IOdDvG_NZxFN",
        "colab": {
          "base_uri": "https://localhost:8080/"
        },
        "outputId": "915aaa0c-0a52-43ef-d3ce-ade30adf5fc9"
      },
      "source": [
        "digitos = [1, 2, 3, 4, 5, 6, 7, 8, 9]\n",
        "print(min(digitos), max(digitos), sum(digitos))"
      ],
      "execution_count": null,
      "outputs": [
        {
          "output_type": "stream",
          "name": "stdout",
          "text": [
            "1 9 45\n"
          ]
        }
      ]
    },
    {
      "cell_type": "code",
      "metadata": {
        "colab": {
          "base_uri": "https://localhost:8080/"
        },
        "id": "Jg7CgSA1xM8e",
        "outputId": "67285e6d-7529-45cf-cdd4-0fa1f3f070f4"
      },
      "source": [
        "squares = [value**2 for value in range(1, 11)]\n",
        "print(squares)"
      ],
      "execution_count": null,
      "outputs": [
        {
          "output_type": "stream",
          "name": "stdout",
          "text": [
            "[1, 4, 9, 16, 25, 36, 49, 64, 81, 100]\n"
          ]
        }
      ]
    },
    {
      "cell_type": "code",
      "metadata": {
        "colab": {
          "base_uri": "https://localhost:8080/"
        },
        "id": "GhsUrsQLyT7C",
        "outputId": "2cc8a3d6-e7ba-4580-fb6d-dfdda2f466bc"
      },
      "source": [
        "for valor in range(21):\n",
        "  print(valor)"
      ],
      "execution_count": null,
      "outputs": [
        {
          "output_type": "stream",
          "name": "stdout",
          "text": [
            "0\n",
            "1\n",
            "2\n",
            "3\n",
            "4\n",
            "5\n",
            "6\n",
            "7\n",
            "8\n",
            "9\n",
            "10\n",
            "11\n",
            "12\n",
            "13\n",
            "14\n",
            "15\n",
            "16\n",
            "17\n",
            "18\n",
            "19\n",
            "20\n"
          ]
        }
      ]
    },
    {
      "cell_type": "code",
      "metadata": {
        "colab": {
          "base_uri": "https://localhost:8080/"
        },
        "id": "op07QiXcF5fr",
        "outputId": "009a9fca-3556-42e1-8835-28bc7c21c104"
      },
      "source": [
        "numeros = [100, 444, 879, 490, 290, 999, 111, 9]\n",
        "min(numeros)"
      ],
      "execution_count": null,
      "outputs": [
        {
          "output_type": "execute_result",
          "data": {
            "text/plain": [
              "9"
            ]
          },
          "metadata": {},
          "execution_count": 7
        }
      ]
    },
    {
      "cell_type": "code",
      "metadata": {
        "colab": {
          "base_uri": "https://localhost:8080/"
        },
        "id": "OYtrYhLxGS17",
        "outputId": "5912c590-be29-4ceb-9a30-0f6e9cfd06ab"
      },
      "source": [
        "max(numeros)"
      ],
      "execution_count": null,
      "outputs": [
        {
          "output_type": "execute_result",
          "data": {
            "text/plain": [
              "999"
            ]
          },
          "metadata": {},
          "execution_count": 8
        }
      ]
    },
    {
      "cell_type": "code",
      "metadata": {
        "colab": {
          "base_uri": "https://localhost:8080/"
        },
        "id": "iEVYQbuEGUcb",
        "outputId": "a73a6889-6512-49f4-e80d-5168d3115551"
      },
      "source": [
        "sum(numeros)"
      ],
      "execution_count": null,
      "outputs": [
        {
          "output_type": "execute_result",
          "data": {
            "text/plain": [
              "3322"
            ]
          },
          "metadata": {},
          "execution_count": 9
        }
      ]
    },
    {
      "cell_type": "code",
      "metadata": {
        "colab": {
          "base_uri": "https://localhost:8080/"
        },
        "id": "AU7ENt9oGWc5",
        "outputId": "3487b882-be7f-4928-c8d7-543c6ef958c3"
      },
      "source": [
        "raiz_cubica = [valor**3 for valor in range(1, 11)]\n",
        "print(raiz_cubica)"
      ],
      "execution_count": null,
      "outputs": [
        {
          "output_type": "stream",
          "name": "stdout",
          "text": [
            "[1, 8, 27, 64, 125, 216, 343, 512, 729, 1000]\n"
          ]
        }
      ]
    },
    {
      "cell_type": "code",
      "metadata": {
        "colab": {
          "base_uri": "https://localhost:8080/"
        },
        "id": "Rg19avw4G4cy",
        "outputId": "ce8540d4-a3d1-40ee-8524-2ba92d31b8e8"
      },
      "source": [
        "waifus = ['hutao', 'aqua', 'cecilia', 'Seria', 'miku']\n",
        "print(waifus[0:3])"
      ],
      "execution_count": null,
      "outputs": [
        {
          "output_type": "stream",
          "name": "stdout",
          "text": [
            "['hutao', 'aqua', 'cecilia']\n"
          ]
        }
      ]
    },
    {
      "cell_type": "code",
      "metadata": {
        "colab": {
          "base_uri": "https://localhost:8080/"
        },
        "id": "2H4NFam0HS46",
        "outputId": "3f6c7631-3ffd-4885-acca-684501548c36"
      },
      "source": [
        "print(waifus[0:1])"
      ],
      "execution_count": null,
      "outputs": [
        {
          "output_type": "stream",
          "name": "stdout",
          "text": [
            "['hutao']\n"
          ]
        }
      ]
    },
    {
      "cell_type": "code",
      "metadata": {
        "colab": {
          "base_uri": "https://localhost:8080/"
        },
        "id": "ZhArQpc6Hs6x",
        "outputId": "51d20621-b87a-4aa3-c3b2-b7f90fad75de"
      },
      "source": [
        "print(waifus[4:5])"
      ],
      "execution_count": null,
      "outputs": [
        {
          "output_type": "stream",
          "name": "stdout",
          "text": [
            "['miku']\n"
          ]
        }
      ]
    },
    {
      "cell_type": "code",
      "metadata": {
        "colab": {
          "base_uri": "https://localhost:8080/"
        },
        "id": "wqYcYAAnHwnJ",
        "outputId": "3434cc45-86f7-4a75-8bc7-a151e8aa270c"
      },
      "source": [
        "waifus = ['hutao', 'aqua', 'cecilia', 'Seria', 'miku']\n",
        "print(\"Aqui estão as waifus mais usadas no momento: \")\n",
        "for waifu in waifus[:3] :\n",
        "  print(waifu.title())\n"
      ],
      "execution_count": null,
      "outputs": [
        {
          "output_type": "stream",
          "name": "stdout",
          "text": [
            "Aqui estão as waifus mais usadas no momento: \n",
            "Hutao\n",
            "Aqua\n",
            "Cecilia\n"
          ]
        }
      ]
    },
    {
      "cell_type": "code",
      "metadata": {
        "id": "y1EMthf5IjPJ",
        "colab": {
          "base_uri": "https://localhost:8080/"
        },
        "outputId": "3649f222-7fcd-4132-9978-a5aba6ff75cd"
      },
      "source": [
        "my_foods = ['pizza', 'lasanha', 'cake']\n",
        "waifu_foods = my_foods[:]\n",
        "\n",
        "print('my food are: ')\n",
        "print(my_foods)\n",
        "\n",
        "print('\\nmy waifus food are: ')\n",
        "print(waifu_foods)"
      ],
      "execution_count": null,
      "outputs": [
        {
          "output_type": "stream",
          "name": "stdout",
          "text": [
            "my food are: \n",
            "['pizza', 'lasanha', 'cake']\n",
            "\n",
            "my waifus food are: \n",
            "['pizza', 'lasanha', 'cake']\n"
          ]
        }
      ]
    },
    {
      "cell_type": "code",
      "metadata": {
        "colab": {
          "base_uri": "https://localhost:8080/"
        },
        "id": "2p9aXei8_Ub5",
        "outputId": "44cf63e6-275d-4cd3-da84-8032a566586b"
      },
      "source": [
        "my_foods.append('chocolate')\n",
        "waifu_foods.append('ice cream')\n",
        "\n",
        "print('my food are: ')\n",
        "print(my_foods)\n",
        "\n",
        "print('\\nmy waifus food are: ')\n",
        "print(waifu_foods)\n"
      ],
      "execution_count": null,
      "outputs": [
        {
          "output_type": "stream",
          "name": "stdout",
          "text": [
            "my food are: \n",
            "['pizza', 'lasanha', 'cake', 'chocolate']\n",
            "\n",
            "my waifus food are: \n",
            "['pizza', 'lasanha', 'cake', 'ice cream']\n"
          ]
        }
      ]
    },
    {
      "cell_type": "code",
      "metadata": {
        "colab": {
          "base_uri": "https://localhost:8080/"
        },
        "id": "6e61lmCGCQ8F",
        "outputId": "67709ae9-906d-4e5f-9e46-7a7d590e2aab"
      },
      "source": [
        "dimensoes = (100, 200)\n",
        "for cubo in dimensoes:\n",
        "  print(cubo)"
      ],
      "execution_count": null,
      "outputs": [
        {
          "output_type": "stream",
          "name": "stdout",
          "text": [
            "100\n",
            "200\n"
          ]
        }
      ]
    },
    {
      "cell_type": "code",
      "metadata": {
        "id": "smO0yZ5REdoO",
        "colab": {
          "base_uri": "https://localhost:8080/"
        },
        "outputId": "044c4ff8-8e26-4e6b-a44a-f5fbc542a738"
      },
      "source": [
        "dimensions = (100, 500)\n",
        "print('Original Dimension:')\n",
        "for dimension in dimensions:\n",
        "  print(dimension)\n",
        "\n",
        "dimensions = (300, 600)\n",
        "print('\\nModified Dimension')\n",
        "for dimension in dimensions:\n",
        "  print(dimension)\n"
      ],
      "execution_count": null,
      "outputs": [
        {
          "output_type": "stream",
          "name": "stdout",
          "text": [
            "Original Dimension:\n",
            "100\n",
            "500\n",
            "\n",
            "Modified Dimension\n",
            "300\n",
            "600\n"
          ]
        }
      ]
    },
    {
      "cell_type": "code",
      "metadata": {
        "colab": {
          "base_uri": "https://localhost:8080/"
        },
        "id": "9CorS17Lk7yP",
        "outputId": "d42d9255-53b4-4fd2-ae80-d6e55b4d4de0"
      },
      "source": [
        "cars = ['audi', 'bmw', 'subaru', 'toyota']\n",
        "\n",
        "for car in cars:\n",
        "  if car == 'subaru':\n",
        "    print(car.upper())\n",
        "  else:\n",
        "    print(car.title())"
      ],
      "execution_count": null,
      "outputs": [
        {
          "output_type": "stream",
          "name": "stdout",
          "text": [
            "Audi\n",
            "Bmw\n",
            "SUBARU\n",
            "Toyota\n"
          ]
        }
      ]
    },
    {
      "cell_type": "code",
      "metadata": {
        "colab": {
          "base_uri": "https://localhost:8080/"
        },
        "id": "ul-xBCGq3c62",
        "outputId": "1e4eed5e-d6d0-4f22-dcfa-7e5c2b629319"
      },
      "source": [
        "pedidos = ['pizza', 'carro', 'trabalho de programador']\n",
        "'pizza' in pedidos"
      ],
      "execution_count": null,
      "outputs": [
        {
          "output_type": "execute_result",
          "data": {
            "text/plain": [
              "True"
            ]
          },
          "metadata": {},
          "execution_count": 6
        }
      ]
    },
    {
      "cell_type": "code",
      "metadata": {
        "colab": {
          "base_uri": "https://localhost:8080/"
        },
        "id": "Pb-JAotXNL41",
        "outputId": "09ebf841-fca5-401a-e471-d2977010a60d"
      },
      "source": [
        "usuarios_banidos = ['pekora', 'suisei', 'noel']\n",
        "user = 'luna'\n",
        "\n",
        "if user not in usuarios_banidos:\n",
        "  print(f'{user.title()}, você pode postar uma resposta se desejar')"
      ],
      "execution_count": null,
      "outputs": [
        {
          "output_type": "stream",
          "name": "stdout",
          "text": [
            "Luna, você pode postar uma resposta se desejar\n"
          ]
        }
      ]
    },
    {
      "cell_type": "code",
      "metadata": {
        "colab": {
          "base_uri": "https://localhost:8080/"
        },
        "id": "FuIreaK9QH9t",
        "outputId": "753d0c12-9079-410d-c973-8499ba1c3728"
      },
      "source": [
        "idade = 20\n",
        "if idade >= 16:\n",
        "  print('você tem idade o suficiente para votar')\n",
        "else:\n",
        "  print('você ainda não tem idade para votar')"
      ],
      "execution_count": null,
      "outputs": [
        {
          "output_type": "stream",
          "name": "stdout",
          "text": [
            "você tem idade o suficiente para votar\n"
          ]
        }
      ]
    },
    {
      "cell_type": "code",
      "metadata": {
        "colab": {
          "base_uri": "https://localhost:8080/"
        },
        "id": "7d5RCGCWZVGr",
        "outputId": "e6a091f7-4874-4425-ae2d-95da8bc24986"
      },
      "source": [
        "question_age = int(input('how old are you?'))\n",
        "if question_age >= 16:\n",
        "  print('você tem idade o suficiente para votar')\n",
        "else:\n",
        "  print('você ainda não tem idade para votar')"
      ],
      "execution_count": null,
      "outputs": [
        {
          "output_type": "stream",
          "name": "stdout",
          "text": [
            "how old are you?15\n",
            "você ainda não tem idade para votar\n"
          ]
        }
      ]
    },
    {
      "cell_type": "code",
      "metadata": {
        "colab": {
          "base_uri": "https://localhost:8080/"
        },
        "id": "wvDDTERJZwJ_",
        "outputId": "cea5d6a4-2af2-43b4-c261-276d6add09f1"
      },
      "source": [
        "age = 16\n",
        "\n",
        "if age < 5:\n",
        "  print('não paga ingresso')\n",
        "elif age < 18:\n",
        "  print('você paga 25 reais de ingresso')\n",
        "else:\n",
        "  print('você paga 40 reais de ingresso')\n",
        "  "
      ],
      "execution_count": null,
      "outputs": [
        {
          "output_type": "stream",
          "name": "stdout",
          "text": [
            "você paga 25 reais de ingresso\n"
          ]
        }
      ]
    },
    {
      "cell_type": "code",
      "metadata": {
        "colab": {
          "base_uri": "https://localhost:8080/"
        },
        "id": "jx2W8EgYcVC4",
        "outputId": "e4875327-c2d2-4db6-df9f-0aa2bb31125e"
      },
      "source": [
        "request_pizza = ['pepperoni', 'extra cheese', 'portuguesa']\n",
        "\n",
        "for pizza in request_pizza:\n",
        " if pizza == 'portuguesa':\n",
        "   print('desculpe, estamos sem igredientes para fazer essa pizza agora!')\n",
        " else:\n",
        "   print(f'Adicionando {pizza}')\n",
        "\n",
        "print('\\nfinalizando seu pedido, obrigado!')"
      ],
      "execution_count": null,
      "outputs": [
        {
          "output_type": "stream",
          "name": "stdout",
          "text": [
            "Adicionando pepperoni\n",
            "Adicionando extra cheese\n",
            "desculpe, estamos sem igredientes para fazer essa pizza agora!\n",
            "\n",
            "finalizando seu pedido, obrigado!\n"
          ]
        }
      ]
    },
    {
      "cell_type": "code",
      "metadata": {
        "colab": {
          "base_uri": "https://localhost:8080/"
        },
        "id": "ozvoz_akl5fy",
        "outputId": "a12f9bae-3d94-4dbf-9c1d-87658817b20c"
      },
      "source": [
        "request_pizza_vazio = []\n",
        "\n",
        "if request_pizza_vazio:\n",
        "  for pizzas in request_pizza_vazio:\n",
        "    print(f'adicionando{pizzas}')\n",
        "  print('\\nFinalizando seu pedido de pizza')\n",
        "else:\n",
        "  print('tem certeza que deseja uma pizza?')\n",
        "\n",
        "\n"
      ],
      "execution_count": null,
      "outputs": [
        {
          "output_type": "stream",
          "name": "stdout",
          "text": [
            "tem certeza que deseja uma pizza?\n"
          ]
        }
      ]
    },
    {
      "cell_type": "code",
      "metadata": {
        "colab": {
          "base_uri": "https://localhost:8080/"
        },
        "id": "hR_TlwkQpG7i",
        "outputId": "c9c11557-a586-4811-ec35-69685e8b2d11"
      },
      "source": [
        "requested_toppings = []\n",
        "\n",
        "if requested_toppings:\n",
        " for requested_topping in requested_toppings:\n",
        "  print(f\"Adding {requested_topping}.\")\n",
        " print(\"\\nFinished making your pizza!\")\n",
        "else:\n",
        " print(\"Are you sure you want a plain pizza?\")"
      ],
      "execution_count": null,
      "outputs": [
        {
          "output_type": "stream",
          "name": "stdout",
          "text": [
            "Are you sure you want a plain pizza?\n"
          ]
        }
      ]
    },
    {
      "cell_type": "code",
      "metadata": {
        "colab": {
          "base_uri": "https://localhost:8080/"
        },
        "id": "7IY1EZb0pZ-3",
        "outputId": "16e136c7-7a1d-4298-a0e0-6002cbef50ee"
      },
      "source": [
        "available_pizzas = ['mushrooms', 'olives', 'green peppers',\n",
        " 'pepperoni', 'pineapple', 'extra cheese']\n",
        "\n",
        "requested_pizzas = ['mushrooms', 'french fries', 'extra cheese']\n",
        "\n",
        "for tipo_pizza in requested_pizzas:\n",
        "  if tipo_pizza in available_pizzas:\n",
        "    print(f'adicionando {tipo_pizza}')\n",
        "  else:\n",
        "    print(f'desculpe não temos essa pizza:  {tipo_pizza}')"
      ],
      "execution_count": null,
      "outputs": [
        {
          "output_type": "stream",
          "name": "stdout",
          "text": [
            "adicionando mushrooms\n",
            "desculpe não temos essa pizza:  french fries\n",
            "adicionando extra cheese\n"
          ]
        }
      ]
    },
    {
      "cell_type": "code",
      "metadata": {
        "id": "qVrY8ojPyL4t"
      },
      "source": [
        ""
      ],
      "execution_count": null,
      "outputs": []
    }
  ]
}