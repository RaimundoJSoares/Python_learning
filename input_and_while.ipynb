{
  "nbformat": 4,
  "nbformat_minor": 0,
  "metadata": {
    "colab": {
      "name": "input_and_while.ipynb",
      "provenance": [],
      "authorship_tag": "ABX9TyOD3hTaPZCUjQSTMMfARhTq",
      "include_colab_link": true
    },
    "kernelspec": {
      "name": "python3",
      "display_name": "Python 3"
    },
    "language_info": {
      "name": "python"
    }
  },
  "cells": [
    {
      "cell_type": "markdown",
      "metadata": {
        "id": "view-in-github",
        "colab_type": "text"
      },
      "source": [
        "<a href=\"https://colab.research.google.com/github/KazumaShachou/Python_learning/blob/main/input_and_while.ipynb\" target=\"_parent\"><img src=\"https://colab.research.google.com/assets/colab-badge.svg\" alt=\"Open In Colab\"/></a>"
      ]
    },
    {
      "cell_type": "code",
      "metadata": {
        "colab": {
          "base_uri": "https://localhost:8080/"
        },
        "id": "c7aiHULGq7yI",
        "outputId": "eadef49e-bf82-4e52-b003-1a5af319c3a4"
      },
      "source": [
        "name = input(\"Please input your name!\")\n",
        "print(f'Hello {name}')"
      ],
      "execution_count": null,
      "outputs": [
        {
          "output_type": "stream",
          "name": "stdout",
          "text": [
            "Please input your name!rai\n",
            "Hello rai\n"
          ]
        }
      ]
    },
    {
      "cell_type": "code",
      "metadata": {
        "colab": {
          "base_uri": "https://localhost:8080/"
        },
        "id": "2hd7JAbytVfh",
        "outputId": "26d794db-0530-4910-ee24-ffcb3569fd4d"
      },
      "source": [
        "numero = int(input('Digite um numero e eu vou dizer se ele é par ou impar'))\n",
        "\n",
        "if numero % 2 == 0:\n",
        "  print(f'\\n o numero {numero} é par')\n",
        "else:\n",
        "  print(f'o numero {numero} é impar')"
      ],
      "execution_count": null,
      "outputs": [
        {
          "output_type": "stream",
          "name": "stdout",
          "text": [
            "Digite um numero e eu vou dizer se ele é par ou impar12\n",
            "\n",
            " o numero 12 é par\n"
          ]
        }
      ]
    },
    {
      "cell_type": "code",
      "metadata": {
        "colab": {
          "base_uri": "https://localhost:8080/"
        },
        "id": "CSRQdP5n13Fb",
        "outputId": "4e451560-6280-4558-c398-1e35ec12fd7f"
      },
      "source": [
        "numero_atual = 1\n",
        "while numero_atual <= 5:\n",
        "  print(numero_atual)\n",
        "  numero_atual += 1"
      ],
      "execution_count": null,
      "outputs": [
        {
          "output_type": "stream",
          "name": "stdout",
          "text": [
            "1\n",
            "2\n",
            "3\n",
            "4\n",
            "5\n"
          ]
        }
      ]
    },
    {
      "cell_type": "code",
      "metadata": {
        "colab": {
          "base_uri": "https://localhost:8080/"
        },
        "id": "Fs5r-HRX4YFF",
        "outputId": "bac7b61a-c5f8-46c0-9786-c9b7838c49e4"
      },
      "source": [
        "prompt = \"\\n diga alguma coisa, e eu repetirei para você\"\n",
        "prompt +=\"\\n Aperte 'sair' para terminar o programa\"\n",
        "\n",
        "message = \"\"\n",
        "while message != 'sair' :\n",
        "  message = input(prompt)\n",
        "\n",
        "  if message != 'sair':\n",
        "    print(message)"
      ],
      "execution_count": null,
      "outputs": [
        {
          "name": "stdout",
          "output_type": "stream",
          "text": [
            "\n",
            " diga alguma coisa, e eu repetirei para você\n",
            " Aperte 'sair' para terminar o programalol\n",
            "lol\n",
            "\n",
            " diga alguma coisa, e eu repetirei para você\n",
            " Aperte 'sair' para terminar o programahello\n",
            "hello\n",
            "\n",
            " diga alguma coisa, e eu repetirei para você\n",
            " Aperte 'sair' para terminar o programasair\n"
          ]
        }
      ]
    },
    {
      "cell_type": "code",
      "metadata": {
        "id": "QdkZOM-w8mW_",
        "colab": {
          "base_uri": "https://localhost:8080/"
        },
        "outputId": "d134f034-4cc3-4be1-d3b0-4eacdc144010"
      },
      "source": [
        "# ---------------------------- importante-------------------------\n",
        "prompt = \"\\n diga alguma coisa, e eu repetirei para você\"\n",
        "prompt +=\"\\n Aperte 'sair' para terminar o programa\"\n",
        "\n",
        "active = True\n",
        "while active:\n",
        "  message = input(prompt)\n",
        "\n",
        "  if message == 'sair':\n",
        "    active = False\n",
        "\n",
        "  else:\n",
        "    print(message)"
      ],
      "execution_count": null,
      "outputs": [
        {
          "name": "stdout",
          "output_type": "stream",
          "text": [
            "\n",
            " diga alguma coisa, e eu repetirei para você\n",
            " Aperte 'sair' para terminar o programaanime\n",
            "anime\n",
            "\n",
            " diga alguma coisa, e eu repetirei para você\n",
            " Aperte 'sair' para terminar o programasair\n"
          ]
        }
      ]
    },
    {
      "cell_type": "code",
      "metadata": {
        "colab": {
          "base_uri": "https://localhost:8080/"
        },
        "id": "AIo4HvS-vodj",
        "outputId": "d5f9b512-9a02-4e6e-f85a-0e43d03866c2"
      },
      "source": [
        "prompt = \"\\nPlease enter the name of a city you have visited:\"\n",
        "prompt += \"\\n(Enter 'quit' when you are finished.) \"\n",
        "\n",
        "while True:\n",
        "  city = input(prompt)\n",
        "\n",
        "  if city == 'quit':\n",
        "    break\n",
        "\n",
        "  else:\n",
        "    print(f'I would love to go to {city.title()}')"
      ],
      "execution_count": null,
      "outputs": [
        {
          "name": "stdout",
          "output_type": "stream",
          "text": [
            "\n",
            "Please enter the name of a city you have visited:\n",
            "(Enter 'quit' when you are finished.) tokyo\n",
            "I would love to go to Tokyo\n",
            "\n",
            "Please enter the name of a city you have visited:\n",
            "(Enter 'quit' when you are finished.) quit\n"
          ]
        }
      ]
    },
    {
      "cell_type": "code",
      "metadata": {
        "colab": {
          "base_uri": "https://localhost:8080/"
        },
        "id": "yeeb7vSFyGbJ",
        "outputId": "b5a19c0f-7755-4a0a-bb94-1d60d338408b"
      },
      "source": [
        "atual_numero = 0\n",
        "\n",
        "while atual_numero < 20:\n",
        "  atual_numero += 1\n",
        "  if atual_numero %2 > 0:\n",
        "    continue\n",
        "  \n",
        "  print(atual_numero)"
      ],
      "execution_count": null,
      "outputs": [
        {
          "output_type": "stream",
          "name": "stdout",
          "text": [
            "2\n",
            "4\n",
            "6\n",
            "8\n",
            "10\n",
            "12\n",
            "14\n",
            "16\n",
            "18\n",
            "20\n"
          ]
        }
      ]
    },
    {
      "cell_type": "code",
      "metadata": {
        "id": "IQHLnNW-yug3"
      },
      "source": [
        "# Start with users that need to be verified,\n",
        " # and an empty list to hold confirmed users.\n",
        "unconfirmed_users = ['alice', 'brian', 'candace']\n",
        "confirmed_users = []\n",
        "# Verify each user until there are no more unconfirmed users.\n",
        "# Move each verified user into the list of confirmed users.\n",
        " while unconfirmed_users:\n",
        " current_user = unconfirmed_users.pop()\n",
        "\n",
        " print(f\"Verifying user: {current_user.title()}\")\n",
        " confirmed_users.append(current_user)\n",
        "# Display all confirmed users.\n",
        "print(\"\\nThe following users have been confirmed:\")\n",
        "for confirmed_user in confirmed_users:\n",
        " print(confirmed_user.title())"
      ],
      "execution_count": null,
      "outputs": []
    },
    {
      "cell_type": "code",
      "metadata": {
        "colab": {
          "base_uri": "https://localhost:8080/"
        },
        "id": "2ugK-Lvd0Hp3",
        "outputId": "308af63e-8a49-4e0e-8e51-ed61c7655e24"
      },
      "source": [
        "usuarios_para_confirmar = ['Pekora', 'Gura', 'Ame', 'Fubuki', 'Noel']\n",
        "\n",
        "usuarios_confirmados = ['cali']\n",
        "\n",
        "while usuarios_para_confirmar:\n",
        "  usuario_atual = usuarios_para_confirmar.pop()\n",
        "    \n",
        "  print(f'Verificando usuário: {usuario_atual}')\n",
        "  usuarios_confirmados.append(usuario_atual)\n",
        "\n",
        "print(\"\\n Os seguintes usuários foram confirmados:\")\n",
        "for usuario_atual in usuarios_confirmados:\n",
        "  print(usuario_atual.title())"
      ],
      "execution_count": null,
      "outputs": [
        {
          "output_type": "stream",
          "name": "stdout",
          "text": [
            "Verificando usuário: Noel\n",
            "Verificando usuário: Fubuki\n",
            "Verificando usuário: Ame\n",
            "Verificando usuário: Gura\n",
            "Verificando usuário: Pekora\n",
            "\n",
            " Os seguintes usuários foram confirmados:\n",
            "Cali\n",
            "Noel\n",
            "Fubuki\n",
            "Ame\n",
            "Gura\n",
            "Pekora\n"
          ]
        }
      ]
    },
    {
      "cell_type": "code",
      "metadata": {
        "id": "0xZlY5Cb16EX"
      },
      "source": [
        ""
      ],
      "execution_count": null,
      "outputs": []
    }
  ]
}